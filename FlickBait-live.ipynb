{
 "cells": [
  {
   "cell_type": "code",
   "execution_count": 1,
   "id": "1370688f-2d07-4e49-82ac-6109abbe74b8",
   "metadata": {},
   "outputs": [
    {
     "name": "stderr",
     "output_type": "stream",
     "text": [
      "/Users/shivangbajaj/Library/Python/3.9/lib/python/site-packages/urllib3/__init__.py:34: NotOpenSSLWarning: urllib3 v2.0 only supports OpenSSL 1.1.1+, currently the 'ssl' module is compiled with 'LibreSSL 2.8.3'. See: https://github.com/urllib3/urllib3/issues/3020\n",
      "  warnings.warn(\n"
     ]
    },
    {
     "name": "stdout",
     "output_type": "stream",
     "text": [
      "{'length_url': [22], 'length_hostname': [13], 'ip': [0], 'nb_dots': [1], 'nb_hyphens': [0], 'nb_at': [0], 'nb_qm': [0], 'nb_and': [0], 'nb_or': [0], 'nb_eq': [0], 'nb_underscore': [0], 'nb_tilde': [0], 'nb_percent': [0], 'nb_slash': [3], 'nb_star': [0], 'nb_colon': [1], 'nb_comma': [0], 'nb_semicolumn': [0], 'nb_dollar': [0], 'nb_space': [0], 'nb_www': [0], 'nb_com': [0], 'nb_dslash': [0], 'http_in_path': [0], 'https_token': [0], 'ratio_digits_url': [0.0], 'ratio_digits_host': [0.0], 'punycode': [0], 'port': [0], 'tld_in_path': [0], 'tld_in_subdomain': [0], 'abnormal_subdomain': [0], 'nb_subdomains': [1], 'prefix_suffix': [0], 'random_domain': [0], 'shortening_service': [0], 'path_extension': [0], 'nb_redirection': [0], 'nb_external_redirection': [0], 'length_words_raw': [1], 'char_repeat': [0], 'shortest_words_raw': [9], 'shortest_word_host': [9], 'shortest_word_path': [0], 'longest_words_raw': [9], 'longest_word_host': [9], 'longest_word_path': [0], 'avg_words_raw': [9.0], 'avg_word_host': [9.0], 'avg_word_path': [0], 'phish_hints': [0], 'domain_in_brand': [0], 'brand_in_subdomain': [0], 'brand_in_path': [0], 'suspecious_tld': [0], 'statistical_report': [0], 'nb_hyperlinks': [251], 'ratio_intHyperlinks': [0.9800796812749004], 'ratio_extHyperlinks': [0.0199203187250996], 'ratio_nullHyperlinks': [0.0], 'nb_extCSS': [0], 'ratio_intRedirection': [0.0], 'ratio_extRedirection': [0.0], 'ratio_intErrors': [0.0], 'ratio_extErrors': [1.0], 'login_form': [1], 'external_favicon': [1], 'links_in_tags': [90.0], 'submit_email': [0], 'ratio_intMedia': [100.0], 'ratio_extMedia': [0.0], 'sfh': [0], 'iframe': [0], 'popup_window': [0], 'safe_anchor': [100.0], 'onmouseover': [0], 'right_clic': [0], 'empty_title': [0], 'domain_in_title': [1], 'domain_with_copyright': [1], 'whois_registered_domain': [1], 'domain_registration_length': [-1], 'domain_age': [-2], 'web_traffic': [0], 'dns_record': [0], 'google_index': [1], 'page_rank': [0]}\n",
      "Predicted Class (True for legitimate, False for phishing): [False]\n",
      "Confidence Scores: [[0.53379478 0.46620522]]\n",
      "The entered URL seems 46.62% Legitimate\n"
     ]
    }
   ],
   "source": [
    "import pandas as pd\n",
    "import feature_extractor as ext\n",
    "import numpy as np\n",
    "from sklearn.preprocessing import StandardScaler\n",
    "from sklearn.feature_selection import SelectPercentile, f_classif\n",
    "import joblib\n",
    "\n",
    "url = 'https://neoageseo.com/'\n",
    "# url = 'https://reqdfit.com/-Rktvhg-BZsX4zZeEUIjf0X3gewySBRDMYA05duHpC0/?cid=171217083710000TCATV411103644264Vf4&pubid=3744083-2938534773-0'\n",
    "# url = 'https://stackoverflow.com/questions/35313876/after-installing-with-pip-jupyter-command-not-found'\n",
    "result = ext.generate_external_dataset(url)\n",
    "print(result)\n",
    "\n",
    "# Create DataFrame for input\n",
    "input_data = pd.DataFrame(result)\n",
    "\n",
    "# Load the trained model\n",
    "loaded_model = joblib.load('phishing_detection_model.pkl')\n",
    "SP = joblib.load('selectpercentile.pkl')\n",
    "Scaler = joblib.load('scaler.pkl')\n",
    "\n",
    "# Load the feature scaling and selection parameters used during training\n",
    "scaled_input_data = Scaler.transform(input_data)\n",
    "selected_input_data = SP.transform(scaled_input_data)\n",
    "preprocessed_input = selected_input_data\n",
    "\n",
    "# Predict with confidence scores\n",
    "confidence_scores = loaded_model.predict_proba(preprocessed_input)\n",
    "predicted_class = loaded_model.predict(preprocessed_input)\n",
    "\n",
    "# Output the result with confidence scores\n",
    "print(\"Predicted Class (True for legitimate, False for phishing):\", predicted_class)\n",
    "print(\"Confidence Scores:\", confidence_scores)\n",
    "\n",
    "print(\"The entered URL seems \" + \"{:.2f}\".format(confidence_scores[0][1] * 100) + \"% Legitimate\")\n"
   ]
  },
  {
   "cell_type": "code",
   "execution_count": null,
   "id": "4bba9560-4069-447b-aa24-70f67e0da15c",
   "metadata": {},
   "outputs": [],
   "source": []
  }
 ],
 "metadata": {
  "kernelspec": {
   "display_name": "Python 3 (ipykernel)",
   "language": "python",
   "name": "python3"
  },
  "language_info": {
   "codemirror_mode": {
    "name": "ipython",
    "version": 3
   },
   "file_extension": ".py",
   "mimetype": "text/x-python",
   "name": "python",
   "nbconvert_exporter": "python",
   "pygments_lexer": "ipython3",
   "version": "3.9.6"
  }
 },
 "nbformat": 4,
 "nbformat_minor": 5
}
